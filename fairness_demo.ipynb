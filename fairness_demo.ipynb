{
 "cells": [
  {
   "cell_type": "markdown",
   "metadata": {},
   "source": [
    "### **Generating Fair Predictions by Post Processing the Predictions of a Machine Learning Classifier Trained on Chest X-Rays**"
   ]
  },
  {
   "cell_type": "markdown",
   "metadata": {},
   "source": [
    "##### **Task**\n",
    "Post-process the predictions of a binary classifier's trained to predict the presence of cardiomegaly in chest x-rays to be fair with respect to sex"
   ]
  },
  {
   "cell_type": "markdown",
   "metadata": {},
   "source": [
    "##### **Requirements**\n",
    "1. Basic understanding of machine learning and deep learning\n",
    "2. Programming in Python"
   ]
  },
  {
   "cell_type": "markdown",
   "metadata": {},
   "source": [
    "##### **Learning Objectives**\n",
    "1. Evaluate the fairness of a classifier's predictions on chest x-rays with respect to the sensititive attribute sex.\n",
    "2. Implement the post-processing method outlined in the paper \"Equality of Oppurtunity in Supervised Learning\" by Moritz Hardt, Eric Price, and Nathan Srebro to generate fair predictions\n",
    "2. Visualize the fairness of the classifier before and after post-processing"
   ]
  },
  {
   "cell_type": "markdown",
   "metadata": {},
   "source": [
    "##### **Acknowledgements**\n",
    "This Jupyter Notebook was based on code by the following people:\n",
    "1. Beepul Bharti (bbharti1@jhu.edu)\n",
    "2. Scott Lee (yle4@cdc.gov)"
   ]
  },
  {
   "cell_type": "markdown",
   "metadata": {},
   "source": [
    "##### **Download the data and utils folder**"
   ]
  },
  {
   "cell_type": "code",
   "execution_count": 7,
   "metadata": {},
   "outputs": [
    {
     "name": "stdout",
     "output_type": "stream",
     "text": [
      "Cloning into 'fairness_demo'...\n",
      "remote: Enumerating objects: 18, done.\u001b[K\n",
      "remote: Counting objects: 100% (18/18), done.\u001b[K\n",
      "remote: Compressing objects: 100% (15/15), done.\u001b[K\n",
      "remote: Total 18 (delta 3), reused 18 (delta 3), pack-reused 0\u001b[K\n",
      "Receiving objects: 100% (18/18), 874.28 KiB | 9.71 MiB/s, done.\n",
      "Resolving deltas: 100% (3/3), done.\n"
     ]
    }
   ],
   "source": [
    "import os\n",
    "import shutil\n",
    "\n",
    "user = \"beepulbharti\"\n",
    "repo = \"fairness_demo\"\n",
    "\n",
    "# remove local directory if it already exists\n",
    "if os.path.isdir(repo):\n",
    "    !rm -rf {repo}\n",
    "!git clone https://github.com/{user}/{repo}.git\n",
    "\n",
    "# remove local data and util folders if they already exist\n",
    "dir = os.getcwd()\n",
    "data_folder_old = os.path.join(repo,'data')\n",
    "data_folder_new = os.path.join(dir,'data')\n",
    "\n",
    "if os.path.isdir(data_folder_new):\n",
    "    shutil.rmtree('data')\n",
    "\n",
    "# Move folders from new updated git repo to main directory\n",
    "shutil.move(data_folder_old,dir)\n",
    "\n",
    "# Remove git repo folder\n",
    "shutil.rmtree(repo)"
   ]
  },
  {
   "cell_type": "markdown",
   "metadata": {},
   "source": [
    "##### **Load the data**"
   ]
  },
  {
   "cell_type": "code",
   "execution_count": 8,
   "metadata": {},
   "outputs": [],
   "source": [
    "import pandas as pd\n",
    "\n",
    "# Define the paths to the csv files of the validation and test data\n",
    "# The CSVs must contain the sensitive attribute A, label Y, and predicted label Y_hat for all samples\n",
    "path_to_val_data = 'data/demo_validation_data.csv'\n",
    "path_to_test_data = 'data/demo_test_data.csv'\n",
    "val_data = pd.read_csv(path_to_val_data,index_col=[0])\n",
    "test_data = pd.read_csv(path_to_test_data,index_col=[0])"
   ]
  },
  {
   "cell_type": "markdown",
   "metadata": {},
   "source": [
    "##### **Evaluate the Theoretical Fairness of the Classifier Predictions on the Test Set**\n",
    "In supervised learning, the objective is, given labeled training data, to learn a predictor, $\\hat{Y} = f(X)$, of the outcome $Y$ from features $X$. In many scenarios we also desire that $\\hat{Y}$ is *fair* with respect to sensitive/protected attributes such as race, sex, color, etc. There are many definitions of fairness in supervised learning. In this demo, we consider the *Equalized Odds* definition in a binary classification setting. \n",
    "\n",
    "A classifier $\\hat{Y}$ satisifies *equalized odds* with respect to a binary sensitive attribute $A \\in \\{0,1\\}$ and outcome $Y$ if\n",
    "\n",
    "$$\n",
    "P[\\hat{Y} = 1 | A = 1, Y = y] = P[\\hat{Y} = 1 | A = 0, Y = y], \\quad y \\in \\{0,1\\}\n",
    "$$\n",
    "\n",
    "which simply states that $\\hat{Y}$ has equal true postitive rates (TPR) and false positive rates (FPRs) across the two groups defined by $A = 0$ and $A=1$\n",
    "\n",
    "Throughout this demo we will measure the fairness of $\\hat{Y}$ through the following quantities\n",
    "\n",
    "$$\n",
    "bias_{TPR} = |P[\\hat{Y} = 1 | A = 1, Y = 1] - P[\\hat{Y} = 1 | A = 0, Y = 1]|\n",
    "$$\n",
    "$$\n",
    "bias_{FPR} = |P[\\hat{Y} = 1 | A = 1, Y = 0] - P[\\hat{Y} = 1 | A = 0, Y =0]|\n",
    "$$\n"
   ]
  },
  {
   "cell_type": "code",
   "execution_count": 10,
   "metadata": {},
   "outputs": [
    {
     "name": "stdout",
     "output_type": "stream",
     "text": [
      "bias_tpr =  0.091\n",
      "bias_fpr =  0.082\n"
     ]
    }
   ],
   "source": [
    "import numpy as np\n",
    "from balancers import BinaryBalancer\n",
    "\n",
    "# Set the variables a, y, and y_hat\n",
    "a_test = test_data.a.values\n",
    "y_test = test_data.y.values\n",
    "y_hat_test = test_data.y_hat.values\n",
    "\n",
    "# Use the Binary Balancer class to evaluate the violation of equalized odds\n",
    "model = BinaryBalancer(a=a_test,y=y_test,y_=y_hat_test,summary=False)\n",
    "bias_tpr = np.abs(model.group_rates[1].tpr - model.group_rates[0].tpr)\n",
    "bias_fpr = np.abs(model.group_rates[1].fpr - model.group_rates[0].fpr)\n",
    "\n",
    "# Print bias_tpr and bias_fpr\n",
    "print('bias_tpr = ', round(bias_tpr,3))\n",
    "print('bias_fpr = ', round(bias_fpr,3))"
   ]
  },
  {
   "cell_type": "markdown",
   "metadata": {},
   "source": [
    "##### **Visualize the Violation of Equalized Odds on the ROC Plane**\n",
    "\n",
    "One can plot the coordinate, $(FPR, TPR)$, on the ROC plane for the groups $A = 0$ and $A = 1$ and observe the points are different, indicating that $\\hat{Y}$ does NOT satisfy equalized odds."
   ]
  },
  {
   "cell_type": "code",
   "execution_count": 11,
   "metadata": {},
   "outputs": [
    {
     "data": {
      "image/png": "[encoded data removed]",
      "text/plain": [
       "<Figure size 432x288 with 1 Axes>"
      ]
     },
     "metadata": {
      "needs_background": "light"
     },
     "output_type": "display_data"
    }
   ],
   "source": [
    "# Plot the TPRs and FPRs for groups A=0 and A=1\n",
    "model.plot(shade_hull=False,optimum=False)"
   ]
  },
  {
   "cell_type": "markdown",
   "metadata": {},
   "source": [
    "##### **Learn a fair-model via post-processing on the validation dataset**\n",
    "\n",
    "We would like to learn a predictor $\\tilde{Y}$ that satisfies equalized odds and is accurate. Furthemore, in many settings, such as medical imaging, it is desirable if this task can be done *after* training because one may not have access to the training data or the model. All one could have is the sensitive attribute $A$, the true outcome $Y$ and predicted outcome $\\hat{Y}$\n",
    "\n",
    "One can still learn such a $\\tilde{Y}$ by simply considering the probabilites\n",
    "\n",
    "$$\n",
    "p_{y,a} = P[\\tilde{Y} = 1 | A = a, \\hat{Y} = y], \\quad y,a \\in \\{0,1\\} \n",
    "$$\n",
    "\n",
    "with are probabilites that one does (or does not) change the prediction $\\hat{Y}$. Note these quantities fully describe $\\tilde{Y}$ AND are **independent** of the true labels $Y$. Such a predictor is referred to as a *derived* predictor.\n",
    "\n",
    "Thus, to learn $\\tilde{Y}$ one can consider the optimization problem for some loss function $L$\n",
    "\n",
    "$$\n",
    "\\min E[L(\\tilde{Y},Y)]\n",
    "$$\n",
    "$$\n",
    "s.t. \\quad \\tilde{Y} \\ \\text{is derived AND satisfies equalized odds}\n",
    "$$\n",
    "\n",
    "This problem is simply a linear program in the 4 quantities $p_{y,a}$ whose solution is $\\tilde{Y}$ an optimal predictor that satisfies equalized odds."
   ]
  },
  {
   "cell_type": "code",
   "execution_count": 12,
   "metadata": {},
   "outputs": [],
   "source": [
    "# Set the variables a, y, and y_hat\n",
    "a_val = val_data.a.values\n",
    "y_val = val_data.y.values\n",
    "y_hat_val = val_data.y_hat.values\n",
    "\n",
    "# Learn a fair model using the validation set by solving the linear program\n",
    "val_model = BinaryBalancer(a=a_val,y=y_val,y_=y_hat_val,summary=False)\n",
    "val_model.adjust(summary=False)"
   ]
  },
  {
   "cell_type": "code",
   "execution_count": 13,
   "metadata": {},
   "outputs": [
    {
     "name": "stdout",
     "output_type": "stream",
     "text": [
      "bias_tpr =  0.001\n",
      "bias_fpr =  0.003\n"
     ]
    }
   ],
   "source": [
    "# Generate fair y_hat on the test set using the fair model\n",
    "y_hat_fair = val_model.predict(y_=y_hat_test,a=a_test)\n",
    "\n",
    "# Check new values of bias_tpr and bias_fpr\n",
    "fair_model = BinaryBalancer(a=a_test,y=y_test,y_=y_hat_fair,summary=False)\n",
    "bias_tpr = np.abs(fair_model.group_rates[1].tpr - fair_model.group_rates[0].tpr)\n",
    "bias_fpr = np.abs(fair_model.group_rates[1].fpr - fair_model.group_rates[0].fpr)\n",
    "\n",
    "# Print the bias_tpr and bias_fpr of the fair predictions, y_hat_fair, generated by the fair model\n",
    "print('bias_tpr = ', round(bias_tpr,3))\n",
    "print('bias_fpr = ', round(bias_fpr,3))"
   ]
  },
  {
   "cell_type": "markdown",
   "metadata": {},
   "source": [
    "##### **Visualize the Optimal Point the Post-Processing Method Calculates to Achieve Equalized Odds on the ROC Plane**\n",
    "\n",
    "One can then visualize the solution the coordinate $(FPR, TPR)$ of $\\tilde{Y}$ and see the probabilites, $p_{y,a}$, which are the solutions to the linear program."
   ]
  },
  {
   "cell_type": "code",
   "execution_count": 14,
   "metadata": {},
   "outputs": [
    {
     "data": {
      "image/png": "[encoded data removed]",
      "text/plain": [
       "<Figure size 432x288 with 1 Axes>"
      ]
     },
     "metadata": {},
     "output_type": "display_data"
    },
    {
     "name": "stdout",
     "output_type": "stream",
     "text": [
      "p_{0,0} =  0.06416344108278801\n",
      "p_{1,0} =  1.0\n",
      "p_{0,1} =  0.0\n",
      "p_{1,1} =  0.9089543597382614\n"
     ]
    }
   ],
   "source": [
    "# Plot the TPRs and FPRs for groups A=0 and A=1\n",
    "val_model.plot(shade_hull=False,optimum=True)\n",
    "solution = val_model.opt.x\n",
    "print('p_{0,0} = ', solution[0])\n",
    "print('p_{1,0} = ', solution[1])\n",
    "print('p_{0,1} = ', solution[2])\n",
    "print('p_{1,1} = ', solution[3])"
   ]
  }
 ],
 "metadata": {
  "kernelspec": {
   "display_name": "Python 3.10.4 ('pytorchm1')",
   "language": "python",
   "name": "python3"
  },
  "language_info": {
   "codemirror_mode": {
    "name": "ipython",
    "version": 3
   },
   "file_extension": ".py",
   "mimetype": "text/x-python",
   "name": "python",
   "nbconvert_exporter": "python",
   "pygments_lexer": "ipython3",
   "version": "3.10.4"
  },
  "orig_nbformat": 4,
  "vscode": {
   "interpreter": {
    "hash": "2ce14df45b79305498123a7be5d546a5d39775fef98f36468c4bda3bda0e165f"
   }
  }
 },
 "nbformat": 4,
 "nbformat_minor": 2
}
